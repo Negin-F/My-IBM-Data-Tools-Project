{
  "metadata": {
    "language_info": {
      "name": ""
    },
    "kernelspec": {
      "name": "python",
      "display_name": "Python (Pyodide)",
      "language": "python"
    }
  },
  "nbformat_minor": 4,
  "nbformat": 4,
  "cells": [
    {
      "cell_type": "markdown",
      "source": "# Data Science Tools and Ecosystem",
      "metadata": {}
    },
    {
      "cell_type": "markdown",
      "source": "In this notebook, Data Science Tools and Ecosystem are summarized.",
      "metadata": {}
    },
    {
      "cell_type": "markdown",
      "source": "**Objectives:**\n\n- Provide information about commonly used libraries in Data Science.\n- Create and run Python code cells in JupyterLite.\n- Perform basic arithmetic operations in Python.\n- Understand how to convert minutes to hours using Python.",
      "metadata": {}
    },
    {
      "cell_type": "markdown",
      "source": "## Tools\nSome of the popular languages that Data Scientists use are:\n1. Python\n2. R\n3. SQL\n4. Java\n5. Julia",
      "metadata": {}
    },
    {
      "cell_type": "markdown",
      "source": "## Libraries\nSome of the commonly used libraries used by Data Scientists include:\n1. NumPy\n2. Pandas\n3. Scikit-Learn\n4. Matplotlib",
      "metadata": {
        "tags": []
      }
    },
    {
      "cell_type": "markdown",
      "source": "| Data Science Tools    |\n|-----------------------|\n| 1. Jupyter Notebook   |\n| 2. R Studio           |\n| 3. Visual Studio Code |",
      "metadata": {}
    },
    {
      "cell_type": "markdown",
      "source": "### Below are a few examples of evaluating arithmetic expressions in Python",
      "metadata": {}
    },
    {
      "cell_type": "code",
      "source": "# This is a simple arithmetic expression to multiply, then add integers.\nExample1 = (3 * 4) + 5\nExample1",
      "metadata": {
        "trusted": true
      },
      "execution_count": null,
      "outputs": []
    },
    {
      "cell_type": "code",
      "source": "# This will convert 200 minutes to hours by diving by 60\nmins = 200\nhours = mins / 60\nhours",
      "metadata": {
        "trusted": true
      },
      "execution_count": null,
      "outputs": []
    },
    {
      "cell_type": "markdown",
      "source": "## Author\nNegin Fathizadeh\n",
      "metadata": {}
    }
  ]
}